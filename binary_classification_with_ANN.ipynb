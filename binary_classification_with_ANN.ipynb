{
 "cells": [
  {
   "cell_type": "markdown",
   "id": "e0dc5df9",
   "metadata": {},
   "source": [
    "# Mushroom Binary Classification With ANN"
   ]
  },
  {
   "cell_type": "markdown",
   "id": "7dbf6db3",
   "metadata": {},
   "source": [
    "In this project I will apply the artificial neural network model to the Mushroom Dataset from Kaggle https://www.kaggle.com/datasets/uciml/mushroom-classification. \n",
    "\n",
    "This project was done for training purposes only. I wanted to see how different hyperparameters can affect a model, and to practice to build Sequntial models using Tensorflow.Keras.\n",
    "\n",
    "### The problem statement: \n",
    "> to identify whether each species is poisonous or not."
   ]
  },
  {
   "cell_type": "markdown",
   "id": "ce4561e8",
   "metadata": {},
   "source": [
    "### The goal of this project:\n",
    " * practice building artifical neural networks with Keras;\n",
    " * compare models with different parameters.\n",
    "\n"
   ]
  },
  {
   "cell_type": "markdown",
   "id": "e1f39a6e",
   "metadata": {},
   "source": [
    "# Steps:\n",
    "\n",
    "   * **Data preprocessing**\n",
    "   * **Comparing different models**\n",
    "   * **Choosing the final model**\n",
    "   * **Making predictions**\n",
    "   * **Plotting confusion matrix**"
   ]
  },
  {
   "cell_type": "markdown",
   "id": "f7144489",
   "metadata": {},
   "source": [
    "### Import libraries"
   ]
  },
  {
   "cell_type": "code",
   "execution_count": 2,
   "id": "d250fb24",
   "metadata": {},
   "outputs": [],
   "source": [
    "import numpy as np\n",
    "import pandas as pd\n",
    "import matplotlib.pyplot as plt\n",
    "import seaborn as sns\n",
    "\n",
    "import tensorflow as tf\n",
    "from tensorflow.keras.models import Sequential\n",
    "from tensorflow.keras.layers import Dense, BatchNormalization, Dropout\n",
    "from tensorflow.keras.optimizers import Adam\n",
    "from sklearn.metrics import confusion_matrix, ConfusionMatrixDisplay"
   ]
  },
  {
   "cell_type": "markdown",
   "id": "71fc80af",
   "metadata": {},
   "source": [
    "### Load the data + short review"
   ]
  },
  {
   "cell_type": "code",
   "execution_count": 3,
   "id": "82203c9b",
   "metadata": {},
   "outputs": [
    {
     "data": {
      "text/html": [
       "<div>\n",
       "<style scoped>\n",
       "    .dataframe tbody tr th:only-of-type {\n",
       "        vertical-align: middle;\n",
       "    }\n",
       "\n",
       "    .dataframe tbody tr th {\n",
       "        vertical-align: top;\n",
       "    }\n",
       "\n",
       "    .dataframe thead th {\n",
       "        text-align: right;\n",
       "    }\n",
       "</style>\n",
       "<table border=\"1\" class=\"dataframe\">\n",
       "  <thead>\n",
       "    <tr style=\"text-align: right;\">\n",
       "      <th></th>\n",
       "      <th>class</th>\n",
       "      <th>cap-shape</th>\n",
       "      <th>cap-surface</th>\n",
       "      <th>cap-color</th>\n",
       "      <th>bruises</th>\n",
       "      <th>odor</th>\n",
       "      <th>gill-attachment</th>\n",
       "      <th>gill-spacing</th>\n",
       "      <th>gill-size</th>\n",
       "      <th>gill-color</th>\n",
       "      <th>...</th>\n",
       "      <th>stalk-surface-below-ring</th>\n",
       "      <th>stalk-color-above-ring</th>\n",
       "      <th>stalk-color-below-ring</th>\n",
       "      <th>veil-type</th>\n",
       "      <th>veil-color</th>\n",
       "      <th>ring-number</th>\n",
       "      <th>ring-type</th>\n",
       "      <th>spore-print-color</th>\n",
       "      <th>population</th>\n",
       "      <th>habitat</th>\n",
       "    </tr>\n",
       "  </thead>\n",
       "  <tbody>\n",
       "    <tr>\n",
       "      <th>0</th>\n",
       "      <td>p</td>\n",
       "      <td>x</td>\n",
       "      <td>s</td>\n",
       "      <td>n</td>\n",
       "      <td>t</td>\n",
       "      <td>p</td>\n",
       "      <td>f</td>\n",
       "      <td>c</td>\n",
       "      <td>n</td>\n",
       "      <td>k</td>\n",
       "      <td>...</td>\n",
       "      <td>s</td>\n",
       "      <td>w</td>\n",
       "      <td>w</td>\n",
       "      <td>p</td>\n",
       "      <td>w</td>\n",
       "      <td>o</td>\n",
       "      <td>p</td>\n",
       "      <td>k</td>\n",
       "      <td>s</td>\n",
       "      <td>u</td>\n",
       "    </tr>\n",
       "    <tr>\n",
       "      <th>1</th>\n",
       "      <td>e</td>\n",
       "      <td>x</td>\n",
       "      <td>s</td>\n",
       "      <td>y</td>\n",
       "      <td>t</td>\n",
       "      <td>a</td>\n",
       "      <td>f</td>\n",
       "      <td>c</td>\n",
       "      <td>b</td>\n",
       "      <td>k</td>\n",
       "      <td>...</td>\n",
       "      <td>s</td>\n",
       "      <td>w</td>\n",
       "      <td>w</td>\n",
       "      <td>p</td>\n",
       "      <td>w</td>\n",
       "      <td>o</td>\n",
       "      <td>p</td>\n",
       "      <td>n</td>\n",
       "      <td>n</td>\n",
       "      <td>g</td>\n",
       "    </tr>\n",
       "    <tr>\n",
       "      <th>2</th>\n",
       "      <td>e</td>\n",
       "      <td>b</td>\n",
       "      <td>s</td>\n",
       "      <td>w</td>\n",
       "      <td>t</td>\n",
       "      <td>l</td>\n",
       "      <td>f</td>\n",
       "      <td>c</td>\n",
       "      <td>b</td>\n",
       "      <td>n</td>\n",
       "      <td>...</td>\n",
       "      <td>s</td>\n",
       "      <td>w</td>\n",
       "      <td>w</td>\n",
       "      <td>p</td>\n",
       "      <td>w</td>\n",
       "      <td>o</td>\n",
       "      <td>p</td>\n",
       "      <td>n</td>\n",
       "      <td>n</td>\n",
       "      <td>m</td>\n",
       "    </tr>\n",
       "    <tr>\n",
       "      <th>3</th>\n",
       "      <td>p</td>\n",
       "      <td>x</td>\n",
       "      <td>y</td>\n",
       "      <td>w</td>\n",
       "      <td>t</td>\n",
       "      <td>p</td>\n",
       "      <td>f</td>\n",
       "      <td>c</td>\n",
       "      <td>n</td>\n",
       "      <td>n</td>\n",
       "      <td>...</td>\n",
       "      <td>s</td>\n",
       "      <td>w</td>\n",
       "      <td>w</td>\n",
       "      <td>p</td>\n",
       "      <td>w</td>\n",
       "      <td>o</td>\n",
       "      <td>p</td>\n",
       "      <td>k</td>\n",
       "      <td>s</td>\n",
       "      <td>u</td>\n",
       "    </tr>\n",
       "    <tr>\n",
       "      <th>4</th>\n",
       "      <td>e</td>\n",
       "      <td>x</td>\n",
       "      <td>s</td>\n",
       "      <td>g</td>\n",
       "      <td>f</td>\n",
       "      <td>n</td>\n",
       "      <td>f</td>\n",
       "      <td>w</td>\n",
       "      <td>b</td>\n",
       "      <td>k</td>\n",
       "      <td>...</td>\n",
       "      <td>s</td>\n",
       "      <td>w</td>\n",
       "      <td>w</td>\n",
       "      <td>p</td>\n",
       "      <td>w</td>\n",
       "      <td>o</td>\n",
       "      <td>e</td>\n",
       "      <td>n</td>\n",
       "      <td>a</td>\n",
       "      <td>g</td>\n",
       "    </tr>\n",
       "  </tbody>\n",
       "</table>\n",
       "<p>5 rows × 23 columns</p>\n",
       "</div>"
      ],
      "text/plain": [
       "  class cap-shape cap-surface cap-color bruises odor gill-attachment  \\\n",
       "0     p         x           s         n       t    p               f   \n",
       "1     e         x           s         y       t    a               f   \n",
       "2     e         b           s         w       t    l               f   \n",
       "3     p         x           y         w       t    p               f   \n",
       "4     e         x           s         g       f    n               f   \n",
       "\n",
       "  gill-spacing gill-size gill-color  ... stalk-surface-below-ring  \\\n",
       "0            c         n          k  ...                        s   \n",
       "1            c         b          k  ...                        s   \n",
       "2            c         b          n  ...                        s   \n",
       "3            c         n          n  ...                        s   \n",
       "4            w         b          k  ...                        s   \n",
       "\n",
       "  stalk-color-above-ring stalk-color-below-ring veil-type veil-color  \\\n",
       "0                      w                      w         p          w   \n",
       "1                      w                      w         p          w   \n",
       "2                      w                      w         p          w   \n",
       "3                      w                      w         p          w   \n",
       "4                      w                      w         p          w   \n",
       "\n",
       "  ring-number ring-type spore-print-color population habitat  \n",
       "0           o         p                 k          s       u  \n",
       "1           o         p                 n          n       g  \n",
       "2           o         p                 n          n       m  \n",
       "3           o         p                 k          s       u  \n",
       "4           o         e                 n          a       g  \n",
       "\n",
       "[5 rows x 23 columns]"
      ]
     },
     "execution_count": 3,
     "metadata": {},
     "output_type": "execute_result"
    }
   ],
   "source": [
    "file_path = '/Users/elizaveta/Programming/datasets/mushrooms.csv'\n",
    "df = pd.read_csv(file_path)\n",
    "\n",
    "df.head()"
   ]
  },
  {
   "cell_type": "code",
   "execution_count": 4,
   "id": "1b4c753f",
   "metadata": {},
   "outputs": [
    {
     "data": {
      "text/plain": [
       "(8124, 23)"
      ]
     },
     "execution_count": 4,
     "metadata": {},
     "output_type": "execute_result"
    }
   ],
   "source": [
    "df.shape"
   ]
  },
  {
   "cell_type": "code",
   "execution_count": 5,
   "id": "18f4bab6",
   "metadata": {},
   "outputs": [
    {
     "name": "stdout",
     "output_type": "stream",
     "text": [
      "<class 'pandas.core.frame.DataFrame'>\n",
      "RangeIndex: 8124 entries, 0 to 8123\n",
      "Data columns (total 23 columns):\n",
      " #   Column                    Non-Null Count  Dtype \n",
      "---  ------                    --------------  ----- \n",
      " 0   class                     8124 non-null   object\n",
      " 1   cap-shape                 8124 non-null   object\n",
      " 2   cap-surface               8124 non-null   object\n",
      " 3   cap-color                 8124 non-null   object\n",
      " 4   bruises                   8124 non-null   object\n",
      " 5   odor                      8124 non-null   object\n",
      " 6   gill-attachment           8124 non-null   object\n",
      " 7   gill-spacing              8124 non-null   object\n",
      " 8   gill-size                 8124 non-null   object\n",
      " 9   gill-color                8124 non-null   object\n",
      " 10  stalk-shape               8124 non-null   object\n",
      " 11  stalk-root                8124 non-null   object\n",
      " 12  stalk-surface-above-ring  8124 non-null   object\n",
      " 13  stalk-surface-below-ring  8124 non-null   object\n",
      " 14  stalk-color-above-ring    8124 non-null   object\n",
      " 15  stalk-color-below-ring    8124 non-null   object\n",
      " 16  veil-type                 8124 non-null   object\n",
      " 17  veil-color                8124 non-null   object\n",
      " 18  ring-number               8124 non-null   object\n",
      " 19  ring-type                 8124 non-null   object\n",
      " 20  spore-print-color         8124 non-null   object\n",
      " 21  population                8124 non-null   object\n",
      " 22  habitat                   8124 non-null   object\n",
      "dtypes: object(23)\n",
      "memory usage: 1.4+ MB\n"
     ]
    }
   ],
   "source": [
    "df.info()"
   ]
  },
  {
   "cell_type": "code",
   "execution_count": 6,
   "id": "b3e73fba",
   "metadata": {},
   "outputs": [
    {
     "data": {
      "text/plain": [
       "class                        2\n",
       "cap-shape                    6\n",
       "cap-surface                  4\n",
       "cap-color                   10\n",
       "bruises                      2\n",
       "odor                         9\n",
       "gill-attachment              2\n",
       "gill-spacing                 2\n",
       "gill-size                    2\n",
       "gill-color                  12\n",
       "stalk-shape                  2\n",
       "stalk-root                   5\n",
       "stalk-surface-above-ring     4\n",
       "stalk-surface-below-ring     4\n",
       "stalk-color-above-ring       9\n",
       "stalk-color-below-ring       9\n",
       "veil-type                    1\n",
       "veil-color                   4\n",
       "ring-number                  3\n",
       "ring-type                    5\n",
       "spore-print-color            9\n",
       "population                   6\n",
       "habitat                      7\n",
       "dtype: int64"
      ]
     },
     "execution_count": 6,
     "metadata": {},
     "output_type": "execute_result"
    }
   ],
   "source": [
    "df.nunique()"
   ]
  },
  {
   "cell_type": "markdown",
   "id": "727990d0",
   "metadata": {},
   "source": [
    "### Encode the data"
   ]
  },
  {
   "cell_type": "code",
   "execution_count": 7,
   "id": "ea11f28b",
   "metadata": {},
   "outputs": [
    {
     "data": {
      "text/html": [
       "<div>\n",
       "<style scoped>\n",
       "    .dataframe tbody tr th:only-of-type {\n",
       "        vertical-align: middle;\n",
       "    }\n",
       "\n",
       "    .dataframe tbody tr th {\n",
       "        vertical-align: top;\n",
       "    }\n",
       "\n",
       "    .dataframe thead th {\n",
       "        text-align: right;\n",
       "    }\n",
       "</style>\n",
       "<table border=\"1\" class=\"dataframe\">\n",
       "  <thead>\n",
       "    <tr style=\"text-align: right;\">\n",
       "      <th></th>\n",
       "      <th>class_e</th>\n",
       "      <th>class_p</th>\n",
       "      <th>cap-shape_b</th>\n",
       "      <th>cap-shape_c</th>\n",
       "      <th>cap-shape_f</th>\n",
       "      <th>cap-shape_k</th>\n",
       "      <th>cap-shape_s</th>\n",
       "      <th>cap-shape_x</th>\n",
       "      <th>cap-surface_f</th>\n",
       "      <th>cap-surface_g</th>\n",
       "      <th>...</th>\n",
       "      <th>population_s</th>\n",
       "      <th>population_v</th>\n",
       "      <th>population_y</th>\n",
       "      <th>habitat_d</th>\n",
       "      <th>habitat_g</th>\n",
       "      <th>habitat_l</th>\n",
       "      <th>habitat_m</th>\n",
       "      <th>habitat_p</th>\n",
       "      <th>habitat_u</th>\n",
       "      <th>habitat_w</th>\n",
       "    </tr>\n",
       "  </thead>\n",
       "  <tbody>\n",
       "    <tr>\n",
       "      <th>0</th>\n",
       "      <td>0</td>\n",
       "      <td>1</td>\n",
       "      <td>0</td>\n",
       "      <td>0</td>\n",
       "      <td>0</td>\n",
       "      <td>0</td>\n",
       "      <td>0</td>\n",
       "      <td>1</td>\n",
       "      <td>0</td>\n",
       "      <td>0</td>\n",
       "      <td>...</td>\n",
       "      <td>1</td>\n",
       "      <td>0</td>\n",
       "      <td>0</td>\n",
       "      <td>0</td>\n",
       "      <td>0</td>\n",
       "      <td>0</td>\n",
       "      <td>0</td>\n",
       "      <td>0</td>\n",
       "      <td>1</td>\n",
       "      <td>0</td>\n",
       "    </tr>\n",
       "    <tr>\n",
       "      <th>1</th>\n",
       "      <td>1</td>\n",
       "      <td>0</td>\n",
       "      <td>0</td>\n",
       "      <td>0</td>\n",
       "      <td>0</td>\n",
       "      <td>0</td>\n",
       "      <td>0</td>\n",
       "      <td>1</td>\n",
       "      <td>0</td>\n",
       "      <td>0</td>\n",
       "      <td>...</td>\n",
       "      <td>0</td>\n",
       "      <td>0</td>\n",
       "      <td>0</td>\n",
       "      <td>0</td>\n",
       "      <td>1</td>\n",
       "      <td>0</td>\n",
       "      <td>0</td>\n",
       "      <td>0</td>\n",
       "      <td>0</td>\n",
       "      <td>0</td>\n",
       "    </tr>\n",
       "    <tr>\n",
       "      <th>2</th>\n",
       "      <td>1</td>\n",
       "      <td>0</td>\n",
       "      <td>1</td>\n",
       "      <td>0</td>\n",
       "      <td>0</td>\n",
       "      <td>0</td>\n",
       "      <td>0</td>\n",
       "      <td>0</td>\n",
       "      <td>0</td>\n",
       "      <td>0</td>\n",
       "      <td>...</td>\n",
       "      <td>0</td>\n",
       "      <td>0</td>\n",
       "      <td>0</td>\n",
       "      <td>0</td>\n",
       "      <td>0</td>\n",
       "      <td>0</td>\n",
       "      <td>1</td>\n",
       "      <td>0</td>\n",
       "      <td>0</td>\n",
       "      <td>0</td>\n",
       "    </tr>\n",
       "    <tr>\n",
       "      <th>3</th>\n",
       "      <td>0</td>\n",
       "      <td>1</td>\n",
       "      <td>0</td>\n",
       "      <td>0</td>\n",
       "      <td>0</td>\n",
       "      <td>0</td>\n",
       "      <td>0</td>\n",
       "      <td>1</td>\n",
       "      <td>0</td>\n",
       "      <td>0</td>\n",
       "      <td>...</td>\n",
       "      <td>1</td>\n",
       "      <td>0</td>\n",
       "      <td>0</td>\n",
       "      <td>0</td>\n",
       "      <td>0</td>\n",
       "      <td>0</td>\n",
       "      <td>0</td>\n",
       "      <td>0</td>\n",
       "      <td>1</td>\n",
       "      <td>0</td>\n",
       "    </tr>\n",
       "    <tr>\n",
       "      <th>4</th>\n",
       "      <td>1</td>\n",
       "      <td>0</td>\n",
       "      <td>0</td>\n",
       "      <td>0</td>\n",
       "      <td>0</td>\n",
       "      <td>0</td>\n",
       "      <td>0</td>\n",
       "      <td>1</td>\n",
       "      <td>0</td>\n",
       "      <td>0</td>\n",
       "      <td>...</td>\n",
       "      <td>0</td>\n",
       "      <td>0</td>\n",
       "      <td>0</td>\n",
       "      <td>0</td>\n",
       "      <td>1</td>\n",
       "      <td>0</td>\n",
       "      <td>0</td>\n",
       "      <td>0</td>\n",
       "      <td>0</td>\n",
       "      <td>0</td>\n",
       "    </tr>\n",
       "  </tbody>\n",
       "</table>\n",
       "<p>5 rows × 119 columns</p>\n",
       "</div>"
      ],
      "text/plain": [
       "   class_e  class_p  cap-shape_b  cap-shape_c  cap-shape_f  cap-shape_k  \\\n",
       "0        0        1            0            0            0            0   \n",
       "1        1        0            0            0            0            0   \n",
       "2        1        0            1            0            0            0   \n",
       "3        0        1            0            0            0            0   \n",
       "4        1        0            0            0            0            0   \n",
       "\n",
       "   cap-shape_s  cap-shape_x  cap-surface_f  cap-surface_g  ...  population_s  \\\n",
       "0            0            1              0              0  ...             1   \n",
       "1            0            1              0              0  ...             0   \n",
       "2            0            0              0              0  ...             0   \n",
       "3            0            1              0              0  ...             1   \n",
       "4            0            1              0              0  ...             0   \n",
       "\n",
       "   population_v  population_y  habitat_d  habitat_g  habitat_l  habitat_m  \\\n",
       "0             0             0          0          0          0          0   \n",
       "1             0             0          0          1          0          0   \n",
       "2             0             0          0          0          0          1   \n",
       "3             0             0          0          0          0          0   \n",
       "4             0             0          0          1          0          0   \n",
       "\n",
       "   habitat_p  habitat_u  habitat_w  \n",
       "0          0          1          0  \n",
       "1          0          0          0  \n",
       "2          0          0          0  \n",
       "3          0          1          0  \n",
       "4          0          0          0  \n",
       "\n",
       "[5 rows x 119 columns]"
      ]
     },
     "execution_count": 7,
     "metadata": {},
     "output_type": "execute_result"
    }
   ],
   "source": [
    "df = pd.get_dummies(df)\n",
    "\n",
    "df.head()"
   ]
  },
  {
   "cell_type": "markdown",
   "id": "983d9ea9",
   "metadata": {},
   "source": [
    "### Define target and independent variables"
   ]
  },
  {
   "cell_type": "code",
   "execution_count": 8,
   "id": "60f47290",
   "metadata": {},
   "outputs": [
    {
     "data": {
      "text/plain": [
       "(8124, 117)"
      ]
     },
     "execution_count": 8,
     "metadata": {},
     "output_type": "execute_result"
    }
   ],
   "source": [
    "y = np.array(df.class_p)\n",
    "\n",
    "target_variables = ['class_e', 'class_p']\n",
    "X = np.array(df.drop(df[target_variables], axis=1))\n",
    "\n",
    "X.shape"
   ]
  },
  {
   "cell_type": "code",
   "execution_count": 9,
   "id": "18d55b5f",
   "metadata": {},
   "outputs": [
    {
     "name": "stdout",
     "output_type": "stream",
     "text": [
      "[[1]\n",
      " [0]\n",
      " [0]\n",
      " ...\n",
      " [0]\n",
      " [1]\n",
      " [0]]\n",
      "(8124, 1)\n"
     ]
    }
   ],
   "source": [
    "y = y.reshape(-1, 1)\n",
    "\n",
    "print(y)\n",
    "print(y.shape)"
   ]
  },
  {
   "cell_type": "markdown",
   "id": "ceb4dfc2",
   "metadata": {},
   "source": [
    "### Split the data"
   ]
  },
  {
   "cell_type": "code",
   "execution_count": 10,
   "id": "7deec6c9",
   "metadata": {},
   "outputs": [
    {
     "name": "stdout",
     "output_type": "stream",
     "text": [
      "X_train shape: (6093, 117)\n",
      "X_test shape: (2031, 117)\n",
      "y_train shape: (6093, 1)\n",
      "y_test shape: (2031, 1)\n"
     ]
    }
   ],
   "source": [
    "from sklearn.model_selection import train_test_split\n",
    "\n",
    "X_train, X_test, y_train, y_test = train_test_split(X, y, random_state=42)\n",
    "\n",
    "print(f'X_train shape: {X_train.shape}')\n",
    "print(f'X_test shape: {X_test.shape}')\n",
    "print(f'y_train shape: {y_train.shape}')\n",
    "print(f'y_test shape: {y_test.shape}')"
   ]
  },
  {
   "cell_type": "code",
   "execution_count": 11,
   "id": "a6f6d67f",
   "metadata": {},
   "outputs": [
    {
     "name": "stdout",
     "output_type": "stream",
     "text": [
      "(117,)\n"
     ]
    }
   ],
   "source": [
    "print(X_train[0].shape)"
   ]
  },
  {
   "cell_type": "markdown",
   "id": "38920dde",
   "metadata": {},
   "source": [
    "## Comparing different Sequential models"
   ]
  },
  {
   "cell_type": "markdown",
   "id": "494f2ad0",
   "metadata": {},
   "source": [
    "# 1\n",
    "\n",
    "Here I will build a Sequential model with:\n",
    "- Adam optimizer (learning rate = 0.0001)\n",
    "- Batch size: 10\n",
    "- Epochs: 10"
   ]
  },
  {
   "cell_type": "code",
   "execution_count": 12,
   "id": "280bd35a",
   "metadata": {},
   "outputs": [
    {
     "name": "stderr",
     "output_type": "stream",
     "text": [
      "2022-09-19 16:36:55.879732: I tensorflow/core/platform/cpu_feature_guard.cc:193] This TensorFlow binary is optimized with oneAPI Deep Neural Network Library (oneDNN) to use the following CPU instructions in performance-critical operations:  AVX2 AVX512F AVX512_VNNI FMA\n",
      "To enable them in other operations, rebuild TensorFlow with the appropriate compiler flags.\n"
     ]
    },
    {
     "name": "stdout",
     "output_type": "stream",
     "text": [
      "Epoch 1/10\n",
      "488/488 - 2s - loss: 0.5776 - accuracy: 0.7899 - val_loss: 0.4143 - val_accuracy: 0.8983 - 2s/epoch - 4ms/step\n",
      "Epoch 2/10\n",
      "488/488 - 1s - loss: 0.2962 - accuracy: 0.9120 - val_loss: 0.2092 - val_accuracy: 0.9336 - 767ms/epoch - 2ms/step\n",
      "Epoch 3/10\n",
      "488/488 - 1s - loss: 0.1599 - accuracy: 0.9473 - val_loss: 0.1187 - val_accuracy: 0.9631 - 719ms/epoch - 1ms/step\n",
      "Epoch 4/10\n",
      "488/488 - 1s - loss: 0.0920 - accuracy: 0.9762 - val_loss: 0.0705 - val_accuracy: 0.9787 - 659ms/epoch - 1ms/step\n",
      "Epoch 5/10\n",
      "488/488 - 1s - loss: 0.0550 - accuracy: 0.9858 - val_loss: 0.0444 - val_accuracy: 0.9893 - 635ms/epoch - 1ms/step\n",
      "Epoch 6/10\n",
      "488/488 - 1s - loss: 0.0346 - accuracy: 0.9943 - val_loss: 0.0296 - val_accuracy: 0.9951 - 646ms/epoch - 1ms/step\n",
      "Epoch 7/10\n",
      "488/488 - 1s - loss: 0.0229 - accuracy: 0.9984 - val_loss: 0.0201 - val_accuracy: 0.9984 - 629ms/epoch - 1ms/step\n",
      "Epoch 8/10\n",
      "488/488 - 1s - loss: 0.0157 - accuracy: 0.9994 - val_loss: 0.0144 - val_accuracy: 0.9984 - 659ms/epoch - 1ms/step\n",
      "Epoch 9/10\n",
      "488/488 - 1s - loss: 0.0110 - accuracy: 0.9994 - val_loss: 0.0109 - val_accuracy: 0.9992 - 629ms/epoch - 1ms/step\n",
      "Epoch 10/10\n",
      "488/488 - 1s - loss: 0.0080 - accuracy: 0.9994 - val_loss: 0.0079 - val_accuracy: 0.9992 - 797ms/epoch - 2ms/step\n"
     ]
    }
   ],
   "source": [
    "model1 = Sequential([\n",
    "    Dense(units=16, activation='relu', input_shape=(117,)),\n",
    "    Dense(units=32, activation='relu'),\n",
    "    Dense(units=1, activation='sigmoid')\n",
    "])\n",
    "\n",
    "model1.compile(optimizer=Adam(learning_rate=0.0001), loss = 'binary_crossentropy', metrics=['accuracy'])\n",
    "history = model1.fit(x=X_train, y=y_train, batch_size=10, epochs=10, validation_split=0.2, verbose=2)"
   ]
  },
  {
   "cell_type": "code",
   "execution_count": 13,
   "id": "d5543749",
   "metadata": {},
   "outputs": [
    {
     "name": "stdout",
     "output_type": "stream",
     "text": [
      "Minimum validation loss: 0.007917284034192562 \n",
      "\n",
      "Maximum validation accuracy: 0.9991796612739563 \n",
      "\n",
      "Parameters \n",
      " learning_rate 0.0001 \n",
      " loss 'binary_crossentropy' \n",
      " batch_size 10 \n",
      " epochs 10 \n",
      " validation_split 0.2  \n"
     ]
    },
    {
     "data": {
      "image/png": "[encoded data removed]",
      "text/plain": [
       "<Figure size 432x288 with 1 Axes>"
      ]
     },
     "metadata": {
      "needs_background": "light"
     },
     "output_type": "display_data"
    }
   ],
   "source": [
    "history_df = pd.DataFrame(history.history)\n",
    "history_df.loc[:, ['accuracy', 'val_accuracy']].plot()\n",
    "print(\"Minimum validation loss: {} \\n\".format(history_df['val_loss'].min()))\n",
    "print(\"Maximum validation accuracy: {} \\n\".format(history_df['val_accuracy'].max()))\n",
    "print('Parameters \\n learning_rate 0.0001 \\n loss \\'binary_crossentropy\\' \\n batch_size 10 \\n epochs 10 \\n validation_split 0.2  ')"
   ]
  },
  {
   "cell_type": "markdown",
   "id": "6f920210",
   "metadata": {},
   "source": [
    "# 2"
   ]
  },
  {
   "cell_type": "markdown",
   "id": "f53b0b41",
   "metadata": {},
   "source": [
    "Here I will build a Sequential model with:\n",
    "- Adam optimizer (learning rate = 0.001)\n",
    "- Batch size: 10\n",
    "- Epochs: 10\n",
    "\n",
    "Eventually, I've just changen learning rate from 0.0001 to 0.001"
   ]
  },
  {
   "cell_type": "code",
   "execution_count": 28,
   "id": "231d840f",
   "metadata": {},
   "outputs": [
    {
     "name": "stdout",
     "output_type": "stream",
     "text": [
      "Epoch 1/10\n",
      "488/488 - 1s - loss: 0.1361 - accuracy: 0.9584 - val_loss: 0.0172 - val_accuracy: 0.9951 - 1s/epoch - 3ms/step\n",
      "Epoch 2/10\n",
      "488/488 - 1s - loss: 0.0065 - accuracy: 0.9992 - val_loss: 0.0037 - val_accuracy: 0.9992 - 778ms/epoch - 2ms/step\n",
      "Epoch 3/10\n",
      "488/488 - 1s - loss: 0.0022 - accuracy: 0.9996 - val_loss: 0.0015 - val_accuracy: 1.0000 - 791ms/epoch - 2ms/step\n",
      "Epoch 4/10\n",
      "488/488 - 1s - loss: 7.1476e-04 - accuracy: 1.0000 - val_loss: 0.0011 - val_accuracy: 1.0000 - 752ms/epoch - 2ms/step\n",
      "Epoch 5/10\n",
      "488/488 - 1s - loss: 3.9946e-04 - accuracy: 1.0000 - val_loss: 3.7065e-04 - val_accuracy: 1.0000 - 721ms/epoch - 1ms/step\n",
      "Epoch 6/10\n",
      "488/488 - 1s - loss: 1.9267e-04 - accuracy: 1.0000 - val_loss: 2.4723e-04 - val_accuracy: 1.0000 - 860ms/epoch - 2ms/step\n",
      "Epoch 7/10\n",
      "488/488 - 1s - loss: 1.1828e-04 - accuracy: 1.0000 - val_loss: 1.6848e-04 - val_accuracy: 1.0000 - 813ms/epoch - 2ms/step\n",
      "Epoch 8/10\n",
      "488/488 - 1s - loss: 7.9866e-05 - accuracy: 1.0000 - val_loss: 1.2697e-04 - val_accuracy: 1.0000 - 706ms/epoch - 1ms/step\n",
      "Epoch 9/10\n",
      "488/488 - 1s - loss: 5.4818e-05 - accuracy: 1.0000 - val_loss: 9.2346e-05 - val_accuracy: 1.0000 - 719ms/epoch - 1ms/step\n",
      "Epoch 10/10\n",
      "488/488 - 1s - loss: 3.8664e-05 - accuracy: 1.0000 - val_loss: 6.8195e-05 - val_accuracy: 1.0000 - 709ms/epoch - 1ms/step\n"
     ]
    }
   ],
   "source": [
    "model2 = Sequential([\n",
    "    Dense(units=16, activation='relu', input_shape=(117,)),\n",
    "    Dense(units=32, activation='relu'),\n",
    "    Dense(units=1, activation='sigmoid')\n",
    "])\n",
    "\n",
    "model2.compile(optimizer=Adam(learning_rate=0.001), loss = 'binary_crossentropy', metrics=['accuracy'])\n",
    "\n",
    "history = model2.fit(x=X_train, y=y_train, batch_size=10, epochs=10, validation_split=0.2, verbose=2)"
   ]
  },
  {
   "cell_type": "code",
   "execution_count": 29,
   "id": "46f29004",
   "metadata": {},
   "outputs": [
    {
     "name": "stdout",
     "output_type": "stream",
     "text": [
      "Minimum validation loss: 6.819538248237222e-05 \n",
      "\n",
      "Maximum validation accuracy: 1.0 \n",
      "\n",
      "Parameters \n",
      " learning_rate 0.001 \n",
      " loss 'binary_crossentropy' \n",
      " batch_size 10 \n",
      " epochs 10 \n",
      " validation_split 0.2  \n"
     ]
    },
    {
     "data": {
      "image/png": "[encoded data removed]",
      "text/plain": [
       "<Figure size 432x288 with 1 Axes>"
      ]
     },
     "metadata": {
      "needs_background": "light"
     },
     "output_type": "display_data"
    }
   ],
   "source": [
    "history_df = pd.DataFrame(history.history)\n",
    "history_df.loc[:, ['accuracy', 'val_accuracy']].plot()\n",
    "print(\"Minimum validation loss: {} \\n\".format(history_df['val_loss'].min()))\n",
    "print(\"Maximum validation accuracy: {} \\n\".format(history_df['val_accuracy'].max()))\n",
    "print('Parameters \\n learning_rate 0.001 \\n loss \\'binary_crossentropy\\' \\n batch_size 10 \\n epochs 10 \\n validation_split 0.2  ')"
   ]
  },
  {
   "cell_type": "markdown",
   "id": "82cc1ae9",
   "metadata": {},
   "source": [
    "# 3\n",
    "\n",
    "Here I will build a Sequential model with:\n",
    "- Adam optimizer (learning rate = 0.001)\n",
    "- Batch size: 256\n",
    "- Epochs: 10"
   ]
  },
  {
   "cell_type": "code",
   "execution_count": 30,
   "id": "adabb13b",
   "metadata": {},
   "outputs": [
    {
     "name": "stdout",
     "output_type": "stream",
     "text": [
      "Epoch 1/10\n",
      "20/20 - 0s - loss: 0.5886 - accuracy: 0.7913 - val_loss: 0.4851 - val_accuracy: 0.9180 - 493ms/epoch - 25ms/step\n",
      "Epoch 2/10\n",
      "20/20 - 0s - loss: 0.4075 - accuracy: 0.9146 - val_loss: 0.3198 - val_accuracy: 0.9221 - 54ms/epoch - 3ms/step\n",
      "Epoch 3/10\n",
      "20/20 - 0s - loss: 0.2646 - accuracy: 0.9249 - val_loss: 0.2036 - val_accuracy: 0.9360 - 55ms/epoch - 3ms/step\n",
      "Epoch 4/10\n",
      "20/20 - 0s - loss: 0.1684 - accuracy: 0.9522 - val_loss: 0.1285 - val_accuracy: 0.9647 - 70ms/epoch - 4ms/step\n",
      "Epoch 5/10\n",
      "20/20 - 0s - loss: 0.1083 - accuracy: 0.9737 - val_loss: 0.0852 - val_accuracy: 0.9770 - 81ms/epoch - 4ms/step\n",
      "Epoch 6/10\n",
      "20/20 - 0s - loss: 0.0711 - accuracy: 0.9869 - val_loss: 0.0589 - val_accuracy: 0.9902 - 75ms/epoch - 4ms/step\n",
      "Epoch 7/10\n",
      "20/20 - 0s - loss: 0.0484 - accuracy: 0.9926 - val_loss: 0.0418 - val_accuracy: 0.9918 - 85ms/epoch - 4ms/step\n",
      "Epoch 8/10\n",
      "20/20 - 0s - loss: 0.0334 - accuracy: 0.9961 - val_loss: 0.0300 - val_accuracy: 0.9975 - 56ms/epoch - 3ms/step\n",
      "Epoch 9/10\n",
      "20/20 - 0s - loss: 0.0238 - accuracy: 0.9986 - val_loss: 0.0230 - val_accuracy: 0.9959 - 55ms/epoch - 3ms/step\n",
      "Epoch 10/10\n",
      "20/20 - 0s - loss: 0.0176 - accuracy: 0.9992 - val_loss: 0.0174 - val_accuracy: 0.9967 - 80ms/epoch - 4ms/step\n"
     ]
    }
   ],
   "source": [
    "model3 = Sequential([\n",
    "    Dense(units=16, activation='relu', input_shape=(117,)),\n",
    "    Dense(units=32, activation='relu'),\n",
    "    Dense(units=1, activation='sigmoid')\n",
    "])\n",
    "\n",
    "model3.compile(optimizer=Adam(learning_rate=0.001), loss = 'binary_crossentropy', metrics=['accuracy'])\n",
    "\n",
    "history = model3.fit(x=X_train, y=y_train, batch_size=256, epochs=10, validation_split=0.2, verbose=2)"
   ]
  },
  {
   "cell_type": "code",
   "execution_count": 31,
   "id": "838c5a72",
   "metadata": {},
   "outputs": [
    {
     "name": "stdout",
     "output_type": "stream",
     "text": [
      "Minimum validation loss: 0.01741490513086319 \n",
      "\n",
      "Maximum validation accuracy: 0.9975389838218689 \n",
      "\n",
      "Parameters \n",
      " learning_rate 0.001 \n",
      " loss 'binary_crossentropy' \n",
      " batch_size 256 \n",
      " epochs 10 \n",
      " validation_split 0.2  \n"
     ]
    },
    {
     "data": {
      "image/png": "[encoded data removed]",
      "text/plain": [
       "<Figure size 432x288 with 1 Axes>"
      ]
     },
     "metadata": {
      "needs_background": "light"
     },
     "output_type": "display_data"
    }
   ],
   "source": [
    "history_df = pd.DataFrame(history.history)\n",
    "history_df.loc[:, ['accuracy', 'val_accuracy']].plot()\n",
    "print(\"Minimum validation loss: {} \\n\".format(history_df['val_loss'].min()))\n",
    "print(\"Maximum validation accuracy: {} \\n\".format(history_df['val_accuracy'].max()))\n",
    "print('Parameters \\n learning_rate 0.001 \\n loss \\'binary_crossentropy\\' \\n batch_size 256 \\n epochs 10 \\n validation_split 0.2  ')"
   ]
  },
  {
   "cell_type": "markdown",
   "id": "d0fd3ac8",
   "metadata": {},
   "source": [
    "# 4\n",
    "\n",
    "Here I will build a Sequential model with:\n",
    "- Adam optimizer (learning rate = 0.001)\n",
    "- Batch size: 10\n",
    "- Epochs: 50\n",
    "\n",
    "Trying to fit the model with more epochs..."
   ]
  },
  {
   "cell_type": "code",
   "execution_count": 14,
   "id": "5c13051c",
   "metadata": {},
   "outputs": [
    {
     "name": "stdout",
     "output_type": "stream",
     "text": [
      "Epoch 1/50\n",
      "488/488 - 1s - loss: 0.1147 - accuracy: 0.9725 - val_loss: 0.0124 - val_accuracy: 0.9967 - 1s/epoch - 3ms/step\n",
      "Epoch 2/50\n",
      "488/488 - 1s - loss: 0.0051 - accuracy: 0.9992 - val_loss: 0.0030 - val_accuracy: 1.0000 - 786ms/epoch - 2ms/step\n",
      "Epoch 3/50\n",
      "488/488 - 1s - loss: 0.0013 - accuracy: 1.0000 - val_loss: 0.0011 - val_accuracy: 1.0000 - 682ms/epoch - 1ms/step\n",
      "Epoch 4/50\n",
      "488/488 - 1s - loss: 5.3322e-04 - accuracy: 1.0000 - val_loss: 5.1867e-04 - val_accuracy: 1.0000 - 653ms/epoch - 1ms/step\n",
      "Epoch 5/50\n",
      "488/488 - 1s - loss: 2.9097e-04 - accuracy: 1.0000 - val_loss: 3.1774e-04 - val_accuracy: 1.0000 - 635ms/epoch - 1ms/step\n",
      "Epoch 6/50\n",
      "488/488 - 1s - loss: 1.6319e-04 - accuracy: 1.0000 - val_loss: 2.1634e-04 - val_accuracy: 1.0000 - 637ms/epoch - 1ms/step\n",
      "Epoch 7/50\n",
      "488/488 - 1s - loss: 1.0502e-04 - accuracy: 1.0000 - val_loss: 1.4326e-04 - val_accuracy: 1.0000 - 631ms/epoch - 1ms/step\n",
      "Epoch 8/50\n",
      "488/488 - 1s - loss: 6.2291e-05 - accuracy: 1.0000 - val_loss: 1.2231e-04 - val_accuracy: 1.0000 - 630ms/epoch - 1ms/step\n",
      "Epoch 9/50\n",
      "488/488 - 1s - loss: 4.6514e-05 - accuracy: 1.0000 - val_loss: 7.6416e-05 - val_accuracy: 1.0000 - 642ms/epoch - 1ms/step\n",
      "Epoch 10/50\n",
      "488/488 - 1s - loss: 3.2132e-05 - accuracy: 1.0000 - val_loss: 5.3408e-05 - val_accuracy: 1.0000 - 641ms/epoch - 1ms/step\n",
      "Epoch 11/50\n",
      "488/488 - 1s - loss: 2.2352e-05 - accuracy: 1.0000 - val_loss: 4.7094e-05 - val_accuracy: 1.0000 - 639ms/epoch - 1ms/step\n",
      "Epoch 12/50\n",
      "488/488 - 1s - loss: 1.6523e-05 - accuracy: 1.0000 - val_loss: 3.5253e-05 - val_accuracy: 1.0000 - 642ms/epoch - 1ms/step\n",
      "Epoch 13/50\n",
      "488/488 - 1s - loss: 1.1579e-05 - accuracy: 1.0000 - val_loss: 2.1362e-05 - val_accuracy: 1.0000 - 651ms/epoch - 1ms/step\n",
      "Epoch 14/50\n",
      "488/488 - 1s - loss: 8.5167e-06 - accuracy: 1.0000 - val_loss: 1.7850e-05 - val_accuracy: 1.0000 - 631ms/epoch - 1ms/step\n",
      "Epoch 15/50\n",
      "488/488 - 1s - loss: 6.2914e-06 - accuracy: 1.0000 - val_loss: 1.2647e-05 - val_accuracy: 1.0000 - 637ms/epoch - 1ms/step\n",
      "Epoch 16/50\n",
      "488/488 - 1s - loss: 4.6948e-06 - accuracy: 1.0000 - val_loss: 9.6562e-06 - val_accuracy: 1.0000 - 636ms/epoch - 1ms/step\n",
      "Epoch 17/50\n",
      "488/488 - 1s - loss: 3.5394e-06 - accuracy: 1.0000 - val_loss: 7.4666e-06 - val_accuracy: 1.0000 - 633ms/epoch - 1ms/step\n",
      "Epoch 18/50\n",
      "488/488 - 1s - loss: 2.6152e-06 - accuracy: 1.0000 - val_loss: 5.4874e-06 - val_accuracy: 1.0000 - 639ms/epoch - 1ms/step\n",
      "Epoch 19/50\n",
      "488/488 - 1s - loss: 1.9252e-06 - accuracy: 1.0000 - val_loss: 4.3485e-06 - val_accuracy: 1.0000 - 638ms/epoch - 1ms/step\n",
      "Epoch 20/50\n",
      "488/488 - 1s - loss: 1.4474e-06 - accuracy: 1.0000 - val_loss: 3.3382e-06 - val_accuracy: 1.0000 - 654ms/epoch - 1ms/step\n",
      "Epoch 21/50\n",
      "488/488 - 1s - loss: 1.1484e-06 - accuracy: 1.0000 - val_loss: 2.5215e-06 - val_accuracy: 1.0000 - 636ms/epoch - 1ms/step\n",
      "Epoch 22/50\n",
      "488/488 - 1s - loss: 8.4209e-07 - accuracy: 1.0000 - val_loss: 1.8926e-06 - val_accuracy: 1.0000 - 634ms/epoch - 1ms/step\n",
      "Epoch 23/50\n",
      "488/488 - 1s - loss: 5.9152e-07 - accuracy: 1.0000 - val_loss: 1.5691e-06 - val_accuracy: 1.0000 - 640ms/epoch - 1ms/step\n",
      "Epoch 24/50\n",
      "488/488 - 1s - loss: 4.4266e-07 - accuracy: 1.0000 - val_loss: 1.2244e-06 - val_accuracy: 1.0000 - 721ms/epoch - 1ms/step\n",
      "Epoch 25/50\n",
      "488/488 - 1s - loss: 3.4367e-07 - accuracy: 1.0000 - val_loss: 9.1997e-07 - val_accuracy: 1.0000 - 641ms/epoch - 1ms/step\n",
      "Epoch 26/50\n",
      "488/488 - 1s - loss: 2.5720e-07 - accuracy: 1.0000 - val_loss: 8.0277e-07 - val_accuracy: 1.0000 - 644ms/epoch - 1ms/step\n",
      "Epoch 27/50\n",
      "488/488 - 1s - loss: 2.0289e-07 - accuracy: 1.0000 - val_loss: 5.5981e-07 - val_accuracy: 1.0000 - 649ms/epoch - 1ms/step\n",
      "Epoch 28/50\n",
      "488/488 - 1s - loss: 1.4336e-07 - accuracy: 1.0000 - val_loss: 4.3459e-07 - val_accuracy: 1.0000 - 653ms/epoch - 1ms/step\n",
      "Epoch 29/50\n",
      "488/488 - 1s - loss: 1.1653e-07 - accuracy: 1.0000 - val_loss: 3.4040e-07 - val_accuracy: 1.0000 - 645ms/epoch - 1ms/step\n",
      "Epoch 30/50\n",
      "488/488 - 1s - loss: 8.3753e-08 - accuracy: 1.0000 - val_loss: 2.8351e-07 - val_accuracy: 1.0000 - 648ms/epoch - 1ms/step\n",
      "Epoch 31/50\n",
      "488/488 - 1s - loss: 6.9385e-08 - accuracy: 1.0000 - val_loss: 2.2304e-07 - val_accuracy: 1.0000 - 701ms/epoch - 1ms/step\n",
      "Epoch 32/50\n",
      "488/488 - 1s - loss: 5.1318e-08 - accuracy: 1.0000 - val_loss: 1.7935e-07 - val_accuracy: 1.0000 - 811ms/epoch - 2ms/step\n",
      "Epoch 33/50\n",
      "488/488 - 1s - loss: 3.9957e-08 - accuracy: 1.0000 - val_loss: 1.3907e-07 - val_accuracy: 1.0000 - 683ms/epoch - 1ms/step\n",
      "Epoch 34/50\n",
      "488/488 - 1s - loss: 3.0737e-08 - accuracy: 1.0000 - val_loss: 1.0561e-07 - val_accuracy: 1.0000 - 685ms/epoch - 1ms/step\n",
      "Epoch 35/50\n",
      "488/488 - 1s - loss: 2.3310e-08 - accuracy: 1.0000 - val_loss: 8.2154e-08 - val_accuracy: 1.0000 - 656ms/epoch - 1ms/step\n",
      "Epoch 36/50\n",
      "488/488 - 1s - loss: 1.8606e-08 - accuracy: 1.0000 - val_loss: 6.8832e-08 - val_accuracy: 1.0000 - 657ms/epoch - 1ms/step\n",
      "Epoch 37/50\n",
      "488/488 - 1s - loss: 1.4628e-08 - accuracy: 1.0000 - val_loss: 5.2772e-08 - val_accuracy: 1.0000 - 654ms/epoch - 1ms/step\n",
      "Epoch 38/50\n",
      "488/488 - 1s - loss: 1.0726e-08 - accuracy: 1.0000 - val_loss: 4.8970e-08 - val_accuracy: 1.0000 - 638ms/epoch - 1ms/step\n",
      "Epoch 39/50\n",
      "488/488 - 1s - loss: 9.0399e-09 - accuracy: 1.0000 - val_loss: 3.6417e-08 - val_accuracy: 1.0000 - 632ms/epoch - 1ms/step\n",
      "Epoch 40/50\n",
      "488/488 - 1s - loss: 6.7908e-09 - accuracy: 1.0000 - val_loss: 2.9601e-08 - val_accuracy: 1.0000 - 639ms/epoch - 1ms/step\n",
      "Epoch 41/50\n",
      "488/488 - 1s - loss: 5.6461e-09 - accuracy: 1.0000 - val_loss: 2.3064e-08 - val_accuracy: 1.0000 - 639ms/epoch - 1ms/step\n",
      "Epoch 42/50\n",
      "488/488 - 1s - loss: 4.5369e-09 - accuracy: 1.0000 - val_loss: 1.6050e-08 - val_accuracy: 1.0000 - 623ms/epoch - 1ms/step\n",
      "Epoch 43/50\n",
      "488/488 - 1s - loss: 3.6058e-09 - accuracy: 1.0000 - val_loss: 1.3960e-08 - val_accuracy: 1.0000 - 647ms/epoch - 1ms/step\n",
      "Epoch 44/50\n",
      "488/488 - 1s - loss: 3.0000e-09 - accuracy: 1.0000 - val_loss: 1.1798e-08 - val_accuracy: 1.0000 - 664ms/epoch - 1ms/step\n",
      "Epoch 45/50\n",
      "488/488 - 1s - loss: 2.4604e-09 - accuracy: 1.0000 - val_loss: 9.7649e-09 - val_accuracy: 1.0000 - 638ms/epoch - 1ms/step\n",
      "Epoch 46/50\n",
      "488/488 - 1s - loss: 2.0660e-09 - accuracy: 1.0000 - val_loss: 8.4537e-09 - val_accuracy: 1.0000 - 641ms/epoch - 1ms/step\n",
      "Epoch 47/50\n",
      "488/488 - 1s - loss: 1.7738e-09 - accuracy: 1.0000 - val_loss: 6.3154e-09 - val_accuracy: 1.0000 - 643ms/epoch - 1ms/step\n",
      "Epoch 48/50\n",
      "488/488 - 1s - loss: 1.4460e-09 - accuracy: 1.0000 - val_loss: 5.8629e-09 - val_accuracy: 1.0000 - 645ms/epoch - 1ms/step\n",
      "Epoch 49/50\n",
      "488/488 - 1s - loss: 1.2834e-09 - accuracy: 1.0000 - val_loss: 5.3532e-09 - val_accuracy: 1.0000 - 643ms/epoch - 1ms/step\n",
      "Epoch 50/50\n",
      "488/488 - 1s - loss: 1.0923e-09 - accuracy: 1.0000 - val_loss: 4.3705e-09 - val_accuracy: 1.0000 - 676ms/epoch - 1ms/step\n"
     ]
    }
   ],
   "source": [
    "model4 = Sequential([\n",
    "    Dense(units=16, activation='relu', input_shape=(117,)),\n",
    "    Dense(units=32, activation='relu'),\n",
    "    Dense(units=1, activation='sigmoid')\n",
    "])\n",
    "\n",
    "model4.compile(optimizer=Adam(learning_rate=0.001), loss = 'binary_crossentropy', metrics=['accuracy'])\n",
    "\n",
    "history = model4.fit(x=X_train, y=y_train, batch_size=10, epochs=50, validation_split=0.2, verbose=2)"
   ]
  },
  {
   "cell_type": "code",
   "execution_count": 15,
   "id": "beccc465",
   "metadata": {},
   "outputs": [
    {
     "name": "stdout",
     "output_type": "stream",
     "text": [
      "Minimum validation loss: 4.370489303795466e-09 \n",
      "\n",
      "Maximum validation accuracy: 1.0 \n",
      "\n",
      "Parameters \n",
      " learning_rate 0.001 \n",
      " loss 'binary_crossentropy' \n",
      " batch_size 10 \n",
      " epochs 50 \n",
      " validation_split 0.2  \n"
     ]
    },
    {
     "data": {
      "image/png": "[encoded data removed]",
      "text/plain": [
       "<Figure size 432x288 with 1 Axes>"
      ]
     },
     "metadata": {
      "needs_background": "light"
     },
     "output_type": "display_data"
    }
   ],
   "source": [
    "history_df = pd.DataFrame(history.history)\n",
    "history_df.loc[:, ['accuracy', 'val_accuracy']].plot()\n",
    "print(\"Minimum validation loss: {} \\n\".format(history_df['val_loss'].min()))\n",
    "print(\"Maximum validation accuracy: {} \\n\".format(history_df['val_accuracy'].max()))\n",
    "print('Parameters \\n learning_rate 0.001 \\n loss \\'binary_crossentropy\\' \\n batch_size 10 \\n epochs 50 \\n validation_split 0.2  ')"
   ]
  },
  {
   "cell_type": "markdown",
   "id": "8e3c98a8",
   "metadata": {},
   "source": [
    "# 5\n",
    "\n",
    "Here I use a Sequential model with more neurons in each hidden layer (512). "
   ]
  },
  {
   "cell_type": "code",
   "execution_count": 34,
   "id": "ba3b9539",
   "metadata": {},
   "outputs": [
    {
     "name": "stdout",
     "output_type": "stream",
     "text": [
      "Epoch 1/10\n",
      "488/488 - 2s - loss: 0.0250 - accuracy: 0.9904 - val_loss: 1.4604e-04 - val_accuracy: 1.0000 - 2s/epoch - 3ms/step\n",
      "Epoch 2/10\n",
      "488/488 - 1s - loss: 5.5591e-05 - accuracy: 1.0000 - val_loss: 3.7518e-05 - val_accuracy: 1.0000 - 1s/epoch - 2ms/step\n",
      "Epoch 3/10\n",
      "488/488 - 1s - loss: 1.3919e-05 - accuracy: 1.0000 - val_loss: 1.3384e-05 - val_accuracy: 1.0000 - 1s/epoch - 2ms/step\n",
      "Epoch 4/10\n",
      "488/488 - 1s - loss: 5.3625e-06 - accuracy: 1.0000 - val_loss: 1.0189e-05 - val_accuracy: 1.0000 - 1s/epoch - 2ms/step\n",
      "Epoch 5/10\n",
      "488/488 - 1s - loss: 2.7660e-06 - accuracy: 1.0000 - val_loss: 3.3665e-06 - val_accuracy: 1.0000 - 1s/epoch - 2ms/step\n",
      "Epoch 6/10\n",
      "488/488 - 1s - loss: 1.4326e-06 - accuracy: 1.0000 - val_loss: 2.2711e-06 - val_accuracy: 1.0000 - 1s/epoch - 2ms/step\n",
      "Epoch 7/10\n",
      "488/488 - 2s - loss: 8.8644e-07 - accuracy: 1.0000 - val_loss: 1.5124e-06 - val_accuracy: 1.0000 - 2s/epoch - 3ms/step\n",
      "Epoch 8/10\n",
      "488/488 - 1s - loss: 5.7693e-07 - accuracy: 1.0000 - val_loss: 1.0416e-06 - val_accuracy: 1.0000 - 1s/epoch - 3ms/step\n",
      "Epoch 9/10\n",
      "488/488 - 2s - loss: 3.8736e-07 - accuracy: 1.0000 - val_loss: 7.4046e-07 - val_accuracy: 1.0000 - 2s/epoch - 3ms/step\n",
      "Epoch 10/10\n",
      "488/488 - 1s - loss: 2.6529e-07 - accuracy: 1.0000 - val_loss: 5.3372e-07 - val_accuracy: 1.0000 - 1s/epoch - 3ms/step\n"
     ]
    }
   ],
   "source": [
    "model5 = Sequential([\n",
    "    Dense(units=512, activation='relu', input_shape=(117,)),\n",
    "    Dense(units=512, activation='relu'),\n",
    "    Dense(units=1, activation='sigmoid')\n",
    "])\n",
    "\n",
    "model5.compile(optimizer=Adam(learning_rate=0.001), loss = 'binary_crossentropy', metrics=['accuracy'])\n",
    "\n",
    "history = model5.fit(x=X_train, y=y_train, batch_size=10, epochs=10, validation_split=0.2, verbose=2)"
   ]
  },
  {
   "cell_type": "code",
   "execution_count": 35,
   "id": "4e02a97a",
   "metadata": {},
   "outputs": [
    {
     "name": "stdout",
     "output_type": "stream",
     "text": [
      "Minimum validation loss: 5.337249149306444e-07 \n",
      "\n",
      "Maximum validation accuracy: 1.0 \n",
      "\n",
      "Parameters \n",
      " learning_rate 0.001 \n",
      " loss 'binary_crossentropy' \n",
      " batch_size 10 \n",
      " epochs 10 \n",
      " validation_split 0.2  \n"
     ]
    },
    {
     "data": {
      "image/png": "[encoded data removed]",
      "text/plain": [
       "<Figure size 432x288 with 1 Axes>"
      ]
     },
     "metadata": {
      "needs_background": "light"
     },
     "output_type": "display_data"
    }
   ],
   "source": [
    "history_df = pd.DataFrame(history.history)\n",
    "history_df.loc[:, ['accuracy', 'val_accuracy']].plot()\n",
    "print(\"Minimum validation loss: {} \\n\".format(history_df['val_loss'].min()))\n",
    "print(\"Maximum validation accuracy: {} \\n\".format(history_df['val_accuracy'].max()))\n",
    "print('Parameters \\n learning_rate 0.001 \\n loss \\'binary_crossentropy\\' \\n batch_size 10 \\n epochs 10 \\n validation_split 0.2  ')"
   ]
  },
  {
   "cell_type": "markdown",
   "id": "43540066",
   "metadata": {},
   "source": [
    "## Choose the best model"
   ]
  },
  {
   "cell_type": "markdown",
   "id": "a9f11314",
   "metadata": {},
   "source": [
    "Most of the models did well with the training and validation datasets. \n",
    "In the end, I can conclude that the second and fourth models are the best for this task. The second model produces slightly more errors, but it is slightly faster. The fourth model produces slightly fewer errors, but it is slightly slower. \n",
    "The models are not very different from each other, so I will use the fourth model. "
   ]
  },
  {
   "cell_type": "markdown",
   "id": "3b1f9fef",
   "metadata": {},
   "source": [
    "## Make predictions"
   ]
  },
  {
   "cell_type": "code",
   "execution_count": 17,
   "id": "b58c6796",
   "metadata": {
    "scrolled": true
   },
   "outputs": [
    {
     "name": "stdout",
     "output_type": "stream",
     "text": [
      "[[0.]\n",
      " [1.]\n",
      " [1.]\n",
      " [0.]\n",
      " [1.]]\n"
     ]
    }
   ],
   "source": [
    "predictions = model4.predict(x=X_test, batch_size=10, verbose=0)\n",
    "predictions = np.round(predictions)\n",
    "\n",
    "print(predictions[:5])"
   ]
  },
  {
   "cell_type": "markdown",
   "id": "8fbcf8c8",
   "metadata": {},
   "source": [
    "## Confusion matrix"
   ]
  },
  {
   "cell_type": "code",
   "execution_count": 17,
   "id": "d56065cd",
   "metadata": {},
   "outputs": [
    {
     "data": {
      "text/plain": [
       "<sklearn.metrics._plot.confusion_matrix.ConfusionMatrixDisplay at 0x7fb78982bd00>"
      ]
     },
     "execution_count": 17,
     "metadata": {},
     "output_type": "execute_result"
    },
    {
     "data": {
      "image/png": "[encoded data removed]",
      "text/plain": [
       "<Figure size 432x288 with 2 Axes>"
      ]
     },
     "metadata": {
      "needs_background": "light"
     },
     "output_type": "display_data"
    }
   ],
   "source": [
    "display_labels=['Edible', 'Poisonous']\n",
    "\n",
    "cm = confusion_matrix(y_test, predictions)\n",
    "disp = ConfusionMatrixDisplay(confusion_matrix=cm, display_labels=display_labels)\n",
    "\n",
    "disp.plot()"
   ]
  }
 ],
 "metadata": {
  "kernelspec": {
   "display_name": "Python 3 (ipykernel)",
   "language": "python",
   "name": "python3"
  },
  "language_info": {
   "codemirror_mode": {
    "name": "ipython",
    "version": 3
   },
   "file_extension": ".py",
   "mimetype": "text/x-python",
   "name": "python",
   "nbconvert_exporter": "python",
   "pygments_lexer": "ipython3",
   "version": "3.9.7"
  }
 },
 "nbformat": 4,
 "nbformat_minor": 5
}
